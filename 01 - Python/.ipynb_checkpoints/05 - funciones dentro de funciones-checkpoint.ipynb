{
 "cells": [
  {
   "cell_type": "code",
   "execution_count": 9,
   "metadata": {},
   "outputs": [
    {
     "data": {
      "text/plain": [
       "6"
      ]
     },
     "execution_count": 9,
     "metadata": {},
     "output_type": "execute_result"
    }
   ],
   "source": [
    "# Puedes devolver funciones que se ejecuten con los paraetros de las primeras\n",
    "def calculadora(num_uno, num_dos, operacion=\"suma\"):\n",
    "    def suma():\n",
    "        return num_uno + num_dos\n",
    "    def resta():\n",
    "        return num_uno - num_dos\n",
    "    def multiplicacion():\n",
    "        return num_uno * num_dos\n",
    "    def division():\n",
    "        return num_uno / num_dos\n",
    "    def devolver_respuesta():\n",
    "        opciones = {\n",
    "            #Cuando se usa los parentesis devuelve la ejecucion de la funcion\n",
    "            #Cuando no ponemos los parentesis devlvemos la deficion de a funcion\n",
    "            \"suma\": suma,\n",
    "            \"resta\": resta,\n",
    "            \"multiplicacion\": multiplicacion,\n",
    "            \"division\": division\n",
    "        }\n",
    "        return opciones[operacion]()\n",
    "    \n",
    "    return devolver_respuesta()\n",
    "\n",
    "calculadora(2,4)"
   ]
  },
  {
   "cell_type": "code",
   "execution_count": 10,
   "metadata": {},
   "outputs": [
    {
     "name": "stdout",
     "output_type": "stream",
     "text": [
      "Dime tu edad21\n",
      "21\n",
      "<class 'str'>\n"
     ]
    }
   ],
   "source": [
    "edad = input(\"Dime tu edad\")\n",
    "print(edad) # 31\n",
    "print (type(edad))"
   ]
  }
 ],
 "metadata": {
  "kernelspec": {
   "display_name": "Python 3",
   "language": "python",
   "name": "python3"
  },
  "language_info": {
   "codemirror_mode": {
    "name": "ipython",
    "version": 3
   },
   "file_extension": ".py",
   "mimetype": "text/x-python",
   "name": "python",
   "nbconvert_exporter": "python",
   "pygments_lexer": "ipython3",
   "version": "3.7.6"
  }
 },
 "nbformat": 4,
 "nbformat_minor": 4
}
