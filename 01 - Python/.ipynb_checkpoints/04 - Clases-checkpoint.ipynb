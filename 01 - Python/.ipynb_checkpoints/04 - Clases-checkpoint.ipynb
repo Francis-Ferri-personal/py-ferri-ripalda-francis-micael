{
 "cells": [
  {
   "cell_type": "code",
   "execution_count": 3,
   "metadata": {},
   "outputs": [
    {
     "data": {
      "text/plain": [
       "4"
      ]
     },
     "execution_count": 3,
     "metadata": {},
     "output_type": "execute_result"
    }
   ],
   "source": [
    "# Funciones lambda\n",
    "def elevar_al_cuadrado(numero):\n",
    "    return numero * numero\n",
    "elevar_al_cuadrado(2)"
   ]
  },
  {
   "cell_type": "code",
   "execution_count": 4,
   "metadata": {},
   "outputs": [],
   "source": [
    "al_cuadrado = lambda x : x * x"
   ]
  },
  {
   "cell_type": "code",
   "execution_count": 5,
   "metadata": {},
   "outputs": [],
   "source": [
    "sumar_dos_numeros = lambda x, y : x + y"
   ]
  },
  {
   "cell_type": "code",
   "execution_count": 6,
   "metadata": {},
   "outputs": [
    {
     "data": {
      "text/plain": [
       "6"
      ]
     },
     "execution_count": 6,
     "metadata": {},
     "output_type": "execute_result"
    }
   ],
   "source": [
    "sumar_dos_numeros(2, 4)"
   ]
  },
  {
   "cell_type": "code",
   "execution_count": 8,
   "metadata": {},
   "outputs": [],
   "source": [
    "# Clases\n",
    "class Nada:\n",
    "    pass"
   ]
  },
  {
   "cell_type": "code",
   "execution_count": 13,
   "metadata": {},
   "outputs": [
    {
     "name": "stdout",
     "output_type": "stream",
     "text": [
      "<class '__main__.Nada'>\n"
     ]
    }
   ],
   "source": [
    "una_nada = Nada()"
   ]
  },
  {
   "cell_type": "code",
   "execution_count": 14,
   "metadata": {},
   "outputs": [
    {
     "name": "stdout",
     "output_type": "stream",
     "text": [
      "<__main__.Nada object at 0x0000022FFEB4BC88>\n",
      "<class '__main__.Nada'>\n"
     ]
    }
   ],
   "source": [
    "print(una_nada)\n",
    "print(type(una_nada))"
   ]
  },
  {
   "cell_type": "code",
   "execution_count": 22,
   "metadata": {},
   "outputs": [
    {
     "name": "stdout",
     "output_type": "stream",
     "text": [
      "Empezo  el conductor\n",
      "Rosado\n",
      "140.39999999999998\n",
      "Color: Rosado \n",
      "Numero de chasis: 120\n"
     ]
    }
   ],
   "source": [
    "class Auto:\n",
    "    color = None # Publico\n",
    "    # Para poner propiedaddes priovadas se utiliza dos guiones bajos\n",
    "    __numero_chasis = 1 # Privado\n",
    "\n",
    "    # Se inicializa la clases con un init\n",
    "    def __init__(self, color): # self es el this de python\n",
    "        print(\"Empezo  el conductor\")\n",
    "        self.color = color\n",
    "    \n",
    "    def setear_chasis(self, numero_chasis): # Metodos publicos\n",
    "        self.__numero_chasis = numero_chasis\n",
    "        return self.__calculo_chasis()\n",
    "        \n",
    "    def __calculo_chasis(self): # Metodos privados\n",
    "        return self.__numero_chasis * 1.17\n",
    "    \n",
    "    # Este es el toString\n",
    "    def __str__(self):\n",
    "        parte_uno = f\"Color: {self.color} \\n\"\n",
    "        parte_dos = f\"Numero de chasis: {self.__numero_chasis}\"\n",
    "        return  parte_uno + parte_dos\n",
    "    \n",
    "nuevo_auto = Auto(\"Rosado\")\n",
    "print(nuevo_auto.color)\n",
    "print(nuevo_auto.setear_chasis(120))\n",
    "print(nuevo_auto)"
   ]
  },
  {
   "cell_type": "code",
   "execution_count": 26,
   "metadata": {},
   "outputs": [],
   "source": [
    "# Heredar clases\n",
    "class BMW(Auto):\n",
    "    def __init__(self, color, chasis):\n",
    "        print(\"Iniciar constructor hijo\")\n",
    "        super().__init__(color)\n",
    "        super().setear_chasis(chasis)"
   ]
  },
  {
   "cell_type": "code",
   "execution_count": 27,
   "metadata": {},
   "outputs": [
    {
     "name": "stdout",
     "output_type": "stream",
     "text": [
      "Iniciar constructor hijo\n",
      "Empezo  el conductor\n",
      "Color: blanco \n",
      "Numero de chasis: 150\n"
     ]
    }
   ],
   "source": [
    "nuevo_bmw = BMW(\"blanco\", 150)\n",
    "print(nuevo_bmw)\n"
   ]
  },
  {
   "cell_type": "code",
   "execution_count": null,
   "metadata": {},
   "outputs": [],
   "source": []
  },
  {
   "cell_type": "code",
   "execution_count": null,
   "metadata": {},
   "outputs": [],
   "source": []
  },
  {
   "cell_type": "code",
   "execution_count": null,
   "metadata": {},
   "outputs": [],
   "source": []
  },
  {
   "cell_type": "code",
   "execution_count": null,
   "metadata": {},
   "outputs": [],
   "source": []
  }
 ],
 "metadata": {
  "kernelspec": {
   "display_name": "Python 3",
   "language": "python",
   "name": "python3"
  },
  "language_info": {
   "codemirror_mode": {
    "name": "ipython",
    "version": 3
   },
   "file_extension": ".py",
   "mimetype": "text/x-python",
   "name": "python",
   "nbconvert_exporter": "python",
   "pygments_lexer": "ipython3",
   "version": "3.7.6"
  }
 },
 "nbformat": 4,
 "nbformat_minor": 4
}
