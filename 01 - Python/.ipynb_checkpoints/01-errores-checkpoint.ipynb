{
 "cells": [
  {
   "cell_type": "code",
   "execution_count": 11,
   "metadata": {},
   "outputs": [
    {
     "name": "stdout",
     "output_type": "stream",
     "text": [
      "Error de nombre variable no declarada\n"
     ]
    }
   ],
   "source": [
    "# Tipos de ewrrores en python\n",
    "#Error de sintaxis\n",
    "#ZeroDivisionError\n",
    "#key error\n",
    "try:\n",
    "    sddsdess\n",
    "    0/0\n",
    "    a = {\"b\":\"b\"}\n",
    "    a[\"c\"]\n",
    "except NameError as error:\n",
    "    print(\"Error de nombre variable no declarada\")\n",
    "    # Se puede manejar los errores de esa manera, con esto puedes conttrolar esactamente los errores que sucedan\n",
    "except (ZeroDivisionError, KeyError) as error:\n",
    "    print(\"Error comun en python\")\n",
    "except Exception as error:\n",
    "    print(error)"
   ]
  }
 ],
 "metadata": {
  "kernelspec": {
   "display_name": "Python 3",
   "language": "python",
   "name": "python3"
  },
  "language_info": {
   "codemirror_mode": {
    "name": "ipython",
    "version": 3
   },
   "file_extension": ".py",
   "mimetype": "text/x-python",
   "name": "python",
   "nbconvert_exporter": "python",
   "pygments_lexer": "ipython3",
   "version": "3.7.6"
  }
 },
 "nbformat": 4,
 "nbformat_minor": 4
}
