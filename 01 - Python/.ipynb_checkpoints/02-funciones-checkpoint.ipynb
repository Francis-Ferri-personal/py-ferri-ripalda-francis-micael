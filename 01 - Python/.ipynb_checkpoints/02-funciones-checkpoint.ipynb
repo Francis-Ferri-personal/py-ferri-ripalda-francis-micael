{
 "cells": [
  {
   "cell_type": "code",
   "execution_count": 3,
   "metadata": {},
   "outputs": [
    {
     "name": "stdout",
     "output_type": "stream",
     "text": [
      "Hola mundo\n"
     ]
    },
    {
     "data": {
      "text/plain": [
       "NoneType"
      ]
     },
     "execution_count": 3,
     "metadata": {},
     "output_type": "execute_result"
    }
   ],
   "source": [
    "# Funciones\n",
    "def hola_mundo():\n",
    "    print(\"Hola mundo\")\n",
    "type(hola_mundo())"
   ]
  },
  {
   "cell_type": "code",
   "execution_count": 8,
   "metadata": {},
   "outputs": [
    {
     "name": "stdout",
     "output_type": "stream",
     "text": [
      "5\n",
      "La suma de 2 y 3 es igual a 5\n"
     ]
    }
   ],
   "source": [
    "def sumar_dos_numeros(numero_uno, numero_dos):\n",
    "    return numero_uno + numero_dos\n",
    "print(sumar_dos_numeros(2,3))\n",
    "total_suma = sumar_dos_numeros(2,3)\n",
    "# COn la f al inicio puedes dar formato como si se tratara de JavvaScript\n",
    "print(f\"La suma de 2 y 3 es igual a {total_suma}\")"
   ]
  },
  {
   "cell_type": "code",
   "execution_count": 11,
   "metadata": {},
   "outputs": [
    {
     "name": "stdout",
     "output_type": "stream",
     "text": [
      "Universidad: EPN\n",
      "Universidad: ESPE\n"
     ]
    }
   ],
   "source": [
    "def imprimir_universidad(nombre = \"EPN\"): # Parametros por defecto\n",
    "    print(f\"Universidad: {nombre}\")\n",
    "imprimir_universidad()\n",
    "imprimir_universidad(\"ESPE\")"
   ]
  },
  {
   "cell_type": "code",
   "execution_count": 18,
   "metadata": {},
   "outputs": [
    {
     "name": "stdout",
     "output_type": "stream",
     "text": [
      "Color: Blanco\n",
      "Placa: ABC-123\n",
      "Horse Power: 3000\n",
      "Anio: 1992\n"
     ]
    }
   ],
   "source": [
    "# REGLA:n 1) Primero parametros requeridos\n",
    "#         2) Parametrros opcionales\n",
    "def imprimir_carro(color, placa, hp, anio=1992):\n",
    "    print(f\"Color: {color}\")\n",
    "    print(f\"Placa: {placa}\")\n",
    "    print(f\"Horse Power: {hp}\") \n",
    "    print(f\"Anio: {anio}\")\n",
    "\n",
    "imprimir_carro(\"Blanco\", \"ABC-123\",3000)"
   ]
  },
  {
   "cell_type": "code",
   "execution_count": 21,
   "metadata": {},
   "outputs": [
    {
     "name": "stdout",
     "output_type": "stream",
     "text": [
      "Color: Blanco\n",
      "Placa: DEF-456\n",
      "Horse Power: 2500\n",
      "Anio: 1998\n"
     ]
    }
   ],
   "source": [
    "imprimir_carro(anio = 1998, \n",
    "               placa= \"DEF-456\", \n",
    "               hp = 2500, \n",
    "               color = \"Blanco\")"
   ]
  },
  {
   "cell_type": "code",
   "execution_count": 24,
   "metadata": {},
   "outputs": [
    {
     "name": "stdout",
     "output_type": "stream",
     "text": [
      "Color: Negro\n",
      "Placa: ABC-123\n",
      "Horse Power: 23131\n",
      "Anio: 1992\n"
     ]
    }
   ],
   "source": [
    "# REGLA: PODEMOS usara paramettrrso por posicion y luego \n",
    "#        PODEMOS utilizar parametros nombrados\n",
    "imprimir_carro(\"Negro\", \"ABC-123\", anio=1992, hp = 23131)"
   ]
  },
  {
   "cell_type": "code",
   "execution_count": 33,
   "metadata": {},
   "outputs": [
    {
     "data": {
      "text/plain": [
       "45"
      ]
     },
     "execution_count": 33,
     "metadata": {},
     "output_type": "execute_result"
    }
   ],
   "source": [
    "def sumar_numeros(primer_numero, \n",
    "                  *numeros):\n",
    "    suma = primer_numero\n",
    "    for numeros in numeros:\n",
    "        suma = suma + numeros\n",
    "    return suma\n",
    "\n",
    "sumar_numeros(1,2,3,4,5,6,7,8,9)"
   ]
  },
  {
   "cell_type": "code",
   "execution_count": 38,
   "metadata": {},
   "outputs": [
    {
     "name": "stdout",
     "output_type": "stream",
     "text": [
      "{'saludo': 'hola', 'mensaje': 'mundo'}\n",
      "<class 'dict'>\n"
     ]
    }
   ],
   "source": [
    "def establecer_configuracion(**kwargs): # Key Words Arguments\n",
    "    print(kwargs)                       # Parametrosd nombrados\n",
    "    print(type(kwargs))\n",
    "    \n",
    "establecer_configuracion(saludo = \"hola\", mensaje = \"mundo\")"
   ]
  },
  {
   "cell_type": "code",
   "execution_count": null,
   "metadata": {},
   "outputs": [],
   "source": [
    "# Reglas\n",
    "def ejemplo(requerido:uno,\n",
    "           requeridoquerido_dos,\n",
    "           opcional_uno = 1,\n",
    "           opcional_dos = 2,\n",
    "           * infinitos,\n",
    "           ** kwargs)"
   ]
  }
 ],
 "metadata": {
  "kernelspec": {
   "display_name": "Python 3",
   "language": "python",
   "name": "python3"
  },
  "language_info": {
   "codemirror_mode": {
    "name": "ipython",
    "version": 3
   },
   "file_extension": ".py",
   "mimetype": "text/x-python",
   "name": "python",
   "nbconvert_exporter": "python",
   "pygments_lexer": "ipython3",
   "version": "3.7.6"
  }
 },
 "nbformat": 4,
 "nbformat_minor": 4
}
