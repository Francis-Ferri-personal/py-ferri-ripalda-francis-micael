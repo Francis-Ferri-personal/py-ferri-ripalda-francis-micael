{
 "cells": [
  {
   "cell_type": "markdown",
   "metadata": {},
   "source": [
    "# Titulo 1\n",
    "## Titulo 2"
   ]
  },
  {
   "cell_type": "markdown",
   "metadata": {},
   "source": [
    "```javascript\n",
    "var s = \"JavaScript syntax highlighting\";\n",
    "alert(s);\n",
    "```"
   ]
  },
  {
   "cell_type": "markdown",
   "metadata": {},
   "source": [
    "Inline-style: \n",
    "![alt text](https://github.com/adam-p/markdown-here/raw/master/src/common/images/icon48.png \"Logo Title Text 1\")"
   ]
  },
  {
   "cell_type": "code",
   "execution_count": 1,
   "metadata": {},
   "outputs": [
    {
     "name": "stdout",
     "output_type": "stream",
     "text": [
      "Hola mundo\n"
     ]
    }
   ],
   "source": [
    "print(\"Hola mundo\")"
   ]
  },
  {
   "cell_type": "code",
   "execution_count": 2,
   "metadata": {},
   "outputs": [],
   "source": [
    "# No tipado\n",
    "# Variables priimitivas\n",
    "entero = 4 #int\n",
    "decimales = 1.1 # float\n",
    "nombre = \"Vicente\" # str\n",
    "segundoNombre = \"Adrian\" # str\n",
    "casado = False # bool\n",
    "profesor = True # bool\n",
    "hijos = None # NoneType\n"
   ]
  },
  {
   "cell_type": "code",
   "execution_count": 3,
   "metadata": {},
   "outputs": [
    {
     "name": "stdout",
     "output_type": "stream",
     "text": [
      "<class 'int'>\n",
      "<class 'float'>\n",
      "<class 'str'>\n",
      "<class 'str'>\n",
      "<class 'bool'>\n",
      "<class 'bool'>\n",
      "<class 'NoneType'>\n"
     ]
    }
   ],
   "source": [
    "print(type(entero))\n",
    "print(type(decimales))\n",
    "print(type(nombre))\n",
    "print(type(segundoNombre))\n",
    "print(type(casado))\n",
    "print(type(profesor))\n",
    "print(type(hijos))"
   ]
  },
  {
   "cell_type": "code",
   "execution_count": 4,
   "metadata": {},
   "outputs": [
    {
     "name": "stdout",
     "output_type": "stream",
     "text": [
      "\n",
      "Un texto es una composición de signos codificados \n",
      "en un sistema de escritura que forma una unidad de sentido. \n",
      "También es una composición de caracteres imprimibles generados por un algoritmo de cifrado que, \n",
      "aunque no tienen sentido para cualquier persona, sí puede ser descifrado p\n",
      "\n",
      "\n"
     ]
    }
   ],
   "source": [
    "cadena_de_texto = \"\"\"\n",
    "Un texto es una composición de signos codificados \n",
    "en un sistema de escritura que forma una unidad de sentido. \n",
    "También es una composición de caracteres imprimibles generados por un algoritmo de cifrado que, \n",
    "aunque no tienen sentido para cualquier persona, sí puede ser descifrado p\n",
    "\n",
    "\"\"\"\n",
    "print(cadena_de_texto)"
   ]
  },
  {
   "cell_type": "code",
   "execution_count": 5,
   "metadata": {},
   "outputs": [
    {
     "name": "stdout",
     "output_type": "stream",
     "text": [
      "4\n",
      "Vicente\n"
     ]
    }
   ],
   "source": [
    "print(entero)\n",
    "entero = decimales\n",
    "entero = hijos\n",
    "entero = casado\n",
    "entero = nombre\n",
    "print(entero)"
   ]
  },
  {
   "cell_type": "code",
   "execution_count": 17,
   "metadata": {},
   "outputs": [
    {
     "name": "stdout",
     "output_type": "stream",
     "text": [
      "Truty\n",
      "Falsy\n",
      "Truty\n",
      "Falsy\n",
      "Truty\n",
      "Falsy\n",
      "Truty\n",
      "Truty\n",
      "Truty\n",
      "Falsy\n",
      "Truty\n",
      "Falsy\n",
      "Truty\n",
      "Falsy\n",
      "Truty\n"
     ]
    }
   ],
   "source": [
    "# Condiciones\n",
    "# Truty - Falsy\n",
    "tuplas = (1,2,3) # Arreglos que no se pueden modificar\n",
    "lista = [4,5,6] # Arreglos que se pueden modificar\n",
    "diccionarioos = {\n",
    "    nombre : \"Francis\"\n",
    "}\n",
    "\n",
    "if (\"Francis\"):\n",
    "    # ...\n",
    "    # ...\n",
    "    print(\"Truty\")\n",
    "else :\n",
    "    # ...\n",
    "    # ...\n",
    "    print(\"Falsy\")\n",
    "\n",
    "    \n",
    "if (\"\"):\n",
    "    print(\"Truty\")\n",
    "else:\n",
    "    print(\"Falsy\")\n",
    "    \n",
    "nombre = \"Francis\"\n",
    "\n",
    "if (type(nombre)) == str:\n",
    "    print(\"Truty\")\n",
    "else:\n",
    "    print(\"Falsy\")\n",
    "\n",
    "\n",
    "nulo = None\n",
    "if (nulo):\n",
    "    print(\"Truty\")\n",
    "else:\n",
    "    print(\"Falsy\")\n",
    "\n",
    "if (1): #Truty\n",
    "    print(\"Truty\")\n",
    "else :\n",
    "    print(\"Falsy\")\n",
    "\n",
    "if (0): # Falsy\n",
    "    print(\"Truty\")\n",
    "else :\n",
    "    print(\"Falsy\")\n",
    "    \n",
    "if (-1): # Truty\n",
    "    print(\"Truty\")\n",
    "else :\n",
    "    print(\"Falsy\")\n",
    "    \n",
    "if (-1.1):\n",
    "    print(\"Truty\")\n",
    "else :\n",
    "    print(\"Falsy\")\n",
    "    \n",
    "if (1.2):\n",
    "    print(\"Truty\")\n",
    "else :\n",
    "    print(\"Falsy\")\n",
    "    \n",
    "if (()): # Falsy\n",
    "    print(\"Truty\")\n",
    "else :\n",
    "    print(\"Falsy\")\n",
    "    \n",
    "if ((1,2,3)): # Truty\n",
    "    print(\"Truty\")\n",
    "else : # Falsy\n",
    "    print(\"Falsy\")\n",
    "    \n",
    "if ([]): # Falsy\n",
    "    print(\"Truty\")\n",
    "else :\n",
    "    print(\"Falsy\")\n",
    "    \n",
    "if ([1,2,3]): # Truty\n",
    "    print(\"Truty\")\n",
    "else : \n",
    "    print(\"Falsy\")\n",
    "    \n",
    "if ({}): # Falsy\n",
    "    print(\"Truty\")\n",
    "else :\n",
    "    print(\"Falsy\")\n",
    "    \n",
    "if ({nombre: \"Francis\"}): # Truty\n",
    "    print(\"Truty\")\n",
    "else :\n",
    "    print(\"Falsy\")\n",
    "    \n"
   ]
  },
  {
   "cell_type": "code",
   "execution_count": 18,
   "metadata": {},
   "outputs": [],
   "source": [
    "arreglo = [1, 2, 3, 4, 5, 6, 7, 8, 9, 10]"
   ]
  },
  {
   "cell_type": "code",
   "execution_count": 33,
   "metadata": {},
   "outputs": [
    {
     "data": {
      "text/plain": [
       "[1, 2, 3, 4, 5, 6, 7, 8, 9, 10]"
      ]
     },
     "execution_count": 33,
     "metadata": {},
     "output_type": "execute_result"
    }
   ],
   "source": [
    "arreglo[0:3] # [0:3[\n",
    "arreglo[5:] # Hasta el final\n",
    "arreglo[:7] # Desde el principio\n",
    "arreglo[-10] # Indice negativo empieza final\n",
    "arreglo[3:-2]\n",
    "arreglo[-8:8]\n",
    "arreglo[-4:-1]\n",
    "arreglo[-7:]\n",
    "arreglo[:-3]\n",
    "arreglo[:]"
   ]
  },
  {
   "cell_type": "code",
   "execution_count": 35,
   "metadata": {},
   "outputs": [
    {
     "data": {
      "text/plain": [
       "(6, 7, 8, 9)"
      ]
     },
     "execution_count": 35,
     "metadata": {},
     "output_type": "execute_result"
    }
   ],
   "source": [
    "arregloTupla = (1, 2, 3, 4, 5, 6, 7, 8, 9, 10)\n",
    "arregloTupla[5:9]"
   ]
  },
  {
   "cell_type": "code",
   "execution_count": 39,
   "metadata": {},
   "outputs": [
    {
     "data": {
      "text/plain": [
       "'Ferri'"
      ]
     },
     "execution_count": 39,
     "metadata": {},
     "output_type": "execute_result"
    }
   ],
   "source": [
    "diccionario = {\n",
    "    \"nombre\": \"Francis\",\n",
    "    \"apellido\": \"Ferri\",\n",
    "    \"sueldo\": 1.2\n",
    "}\n",
    "diccionario[\"apellido\"]"
   ]
  },
  {
   "cell_type": "code",
   "execution_count": 41,
   "metadata": {},
   "outputs": [
    {
     "data": {
      "text/plain": [
       "False"
      ]
     },
     "execution_count": 41,
     "metadata": {},
     "output_type": "execute_result"
    }
   ],
   "source": [
    "12 in arreglo"
   ]
  },
  {
   "cell_type": "code",
   "execution_count": 42,
   "metadata": {},
   "outputs": [
    {
     "name": "stdout",
     "output_type": "stream",
     "text": [
      "<class 'bool'>\n"
     ]
    }
   ],
   "source": [
    "print(type(12 in arreglo))"
   ]
  },
  {
   "cell_type": "code",
   "execution_count": 46,
   "metadata": {},
   "outputs": [
    {
     "data": {
      "text/plain": [
       "3"
      ]
     },
     "execution_count": 46,
     "metadata": {},
     "output_type": "execute_result"
    }
   ],
   "source": [
    "len(arreglo)\n",
    "len(arregloTupla)\n",
    "len(diccionario)"
   ]
  },
  {
   "cell_type": "code",
   "execution_count": 50,
   "metadata": {},
   "outputs": [
    {
     "data": {
      "text/plain": [
       "True"
      ]
     },
     "execution_count": 50,
     "metadata": {},
     "output_type": "execute_result"
    }
   ],
   "source": [
    "# Hay que mandar la llave\n",
    "\"nombre\" in diccionario # Para diccionarios \n",
    "                        # se debe trabajar con \n",
    "                        # las llaves"
   ]
  },
  {
   "cell_type": "code",
   "execution_count": 56,
   "metadata": {},
   "outputs": [],
   "source": [
    "# arregloTupla[0] = 2 # No se puede\n",
    "arreglo[0] = 2"
   ]
  },
  {
   "cell_type": "code",
   "execution_count": null,
   "metadata": {},
   "outputs": [],
   "source": [
    "# arreglo.pop\n",
    "# arreglo.append\n",
    "# arreglo.insert"
   ]
  },
  {
   "cell_type": "code",
   "execution_count": 59,
   "metadata": {},
   "outputs": [
    {
     "name": "stdout",
     "output_type": "stream",
     "text": [
      "nombre\n",
      "apellido\n",
      "sueldo\n"
     ]
    }
   ],
   "source": [
    "for numeroLista in arregloTuplar:\n",
    "    print(numeroLista)"
   ]
  },
  {
   "cell_type": "code",
   "execution_count": 62,
   "metadata": {},
   "outputs": [
    {
     "name": "stdout",
     "output_type": "stream",
     "text": [
      "nombre\n",
      "apellido\n",
      "sueldo\n"
     ]
    }
   ],
   "source": [
    "for numeroLista in diccionario:\n",
    "    print(numeroLista)"
   ]
  },
  {
   "cell_type": "code",
   "execution_count": 64,
   "metadata": {},
   "outputs": [
    {
     "name": "stdout",
     "output_type": "stream",
     "text": [
      "0\n",
      "1\n",
      "2\n",
      "3\n",
      "4\n",
      "5\n",
      "6\n",
      "7\n",
      "8\n",
      "9\n"
     ]
    }
   ],
   "source": [
    "contador =  0\n",
    "while contador < 10:\n",
    "    print(contador)\n",
    "    contador+=1"
   ]
  },
  {
   "cell_type": "code",
   "execution_count": 78,
   "metadata": {},
   "outputs": [],
   "source": [
    "# Malas practicas\n",
    "francis = {\n",
    "    True: \"Francis\",\n",
    "    False: \"Ferri\",\n",
    "    1: 12.2,\n",
    "    1.1: 89,\n",
    "    \"edad\": 31,\n",
    "    \"mascotas\": [{\"nombre\":\"cachetes\"}],\n",
    "    None: None\n",
    "}"
   ]
  },
  {
   "cell_type": "code",
   "execution_count": 69,
   "metadata": {},
   "outputs": [
    {
     "data": {
      "text/plain": [
       "12.2"
      ]
     },
     "execution_count": 69,
     "metadata": {},
     "output_type": "execute_result"
    }
   ],
   "source": [
    "francis[True]"
   ]
  },
  {
   "cell_type": "code",
   "execution_count": 80,
   "metadata": {},
   "outputs": [],
   "source": [
    "francis[\"edad\"] = 21\n",
    "francis[\"apellido\"]= \"Rialda\"\n",
    "francis[\"mascotas\"][0][\"nombre\"] = \"Panda\""
   ]
  },
  {
   "cell_type": "code",
   "execution_count": 81,
   "metadata": {},
   "outputs": [
    {
     "data": {
      "text/plain": [
       "{True: 12.2,\n",
       " False: 'Ferri',\n",
       " 1.1: 89,\n",
       " 'edad': 21,\n",
       " 'mascotas': [{'nombre': 'Panda'}],\n",
       " None: None,\n",
       " 'apellido': 'Rialda'}"
      ]
     },
     "execution_count": 81,
     "metadata": {},
     "output_type": "execute_result"
    }
   ],
   "source": [
    "francis"
   ]
  },
  {
   "cell_type": "code",
   "execution_count": null,
   "metadata": {},
   "outputs": [],
   "source": []
  }
 ],
 "metadata": {
  "kernelspec": {
   "display_name": "Python 3",
   "language": "python",
   "name": "python3"
  },
  "language_info": {
   "codemirror_mode": {
    "name": "ipython",
    "version": 3
   },
   "file_extension": ".py",
   "mimetype": "text/x-python",
   "name": "python",
   "nbconvert_exporter": "python",
   "pygments_lexer": "ipython3",
   "version": "3.7.6"
  }
 },
 "nbformat": 4,
 "nbformat_minor": 4
}
