{
 "cells": [
  {
   "cell_type": "code",
   "execution_count": 1,
   "metadata": {},
   "outputs": [],
   "source": [
    "import numpy as np"
   ]
  },
  {
   "cell_type": "code",
   "execution_count": 2,
   "metadata": {},
   "outputs": [],
   "source": [
    "paises_uno = (\"Ecuador\", \"Estados Unidos\", \"Cuba\", \"Venezuela\")\n",
    "paises_dos = (\"Brasil\", \"China\", \"Japon\", \"Mexico\")"
   ]
  },
  {
   "cell_type": "code",
   "execution_count": 4,
   "metadata": {},
   "outputs": [
    {
     "data": {
      "text/plain": [
       "array([['Ecuador', 'Estados Unidos', 'Cuba', 'Venezuela'],\n",
       "       ['Brasil', 'China', 'Japon', 'Mexico']], dtype='<U14')"
      ]
     },
     "execution_count": 4,
     "metadata": {},
     "output_type": "execute_result"
    }
   ],
   "source": [
    "paises_2d= np.array([paises_uno, paises_dos])\n",
    "paises_2d"
   ]
  },
  {
   "cell_type": "code",
   "execution_count": 9,
   "metadata": {},
   "outputs": [
    {
     "data": {
      "text/plain": [
       "(2, 4)"
      ]
     },
     "execution_count": 9,
     "metadata": {},
     "output_type": "execute_result"
    }
   ],
   "source": [
    "paises_2d.shape"
   ]
  },
  {
   "cell_type": "code",
   "execution_count": 10,
   "metadata": {},
   "outputs": [
    {
     "data": {
      "text/plain": [
       "array(['Ecuador', 'Estados Unidos', 'Cuba', 'Venezuela', 'Brasil',\n",
       "       'China', 'Japon', 'Mexico'], dtype='<U14')"
      ]
     },
     "execution_count": 10,
     "metadata": {},
     "output_type": "execute_result"
    }
   ],
   "source": [
    "paises_2d.flatten()"
   ]
  },
  {
   "cell_type": "code",
   "execution_count": 12,
   "metadata": {},
   "outputs": [
    {
     "data": {
      "text/plain": [
       "array([[['Ecuador', 'Estados Unidos'],\n",
       "        ['Cuba', 'Venezuela']],\n",
       "\n",
       "       [['Brasil', 'China'],\n",
       "        ['Japon', 'Mexico']]], dtype='<U14')"
      ]
     },
     "execution_count": 12,
     "metadata": {},
     "output_type": "execute_result"
    }
   ],
   "source": [
    "paises_2d.reshape(2,2,2)"
   ]
  },
  {
   "cell_type": "code",
   "execution_count": 14,
   "metadata": {},
   "outputs": [
    {
     "data": {
      "text/plain": [
       "array([['Ecuador', 'Estados Unidos', 'Cuba', 'Venezuela'],\n",
       "       ['Brasil', 'China', 'Japon', 'Mexico']], dtype='<U14')"
      ]
     },
     "execution_count": 14,
     "metadata": {},
     "output_type": "execute_result"
    }
   ],
   "source": [
    "# -1 es wel comodin es como decirle que lleneo con lo que pueda\n",
    "paises_2d.flatten().reshape(-1, 4)"
   ]
  },
  {
   "cell_type": "code",
   "execution_count": 16,
   "metadata": {},
   "outputs": [
    {
     "data": {
      "text/plain": [
       "array([[['Ecuador', 'Estados Unidos'],\n",
       "        ['Cuba', 'Venezuela']],\n",
       "\n",
       "       [['Brasil', 'China'],\n",
       "        ['Japon', 'Mexico']]], dtype='<U14')"
      ]
     },
     "execution_count": 16,
     "metadata": {},
     "output_type": "execute_result"
    }
   ],
   "source": [
    "# Solo puede existir un -1 dentro del reshape\n",
    "# Tampoco sobrepases los limites de las dimensioones que se puede tener\n",
    "paises_2d.flatten().reshape(2, 2, -1)"
   ]
  },
  {
   "cell_type": "markdown",
   "metadata": {},
   "source": [
    "### La matriz Transpueta\n",
    "**Muy util**"
   ]
  },
  {
   "cell_type": "code",
   "execution_count": 39,
   "metadata": {},
   "outputs": [
    {
     "name": "stdout",
     "output_type": "stream",
     "text": [
      "[['Ecuador' 'Estados Unidos' 'Cuba' 'Venezuela']\n",
      " ['Brasil' 'China' 'Japon' 'Mexico']]\n",
      "(2, 4)\n",
      "[['Ecuador' 'Brasil']\n",
      " ['Estados Unidos' 'China']\n",
      " ['Cuba' 'Japon']\n",
      " ['Venezuela' 'Mexico']]\n",
      "(4, 2)\n"
     ]
    },
    {
     "data": {
      "text/plain": [
       "[array([['Ecuador', 'Brasil'],\n",
       "        ['Estados Unidos', 'China']], dtype='<U14'),\n",
       " array([['Cuba', 'Japon'],\n",
       "        ['Venezuela', 'Mexico']], dtype='<U14')]"
      ]
     },
     "execution_count": 39,
     "metadata": {},
     "output_type": "execute_result"
    }
   ],
   "source": [
    "print(paises_2d)\n",
    "print(paises_2d.shape)\n",
    "print(paises_2d.T)\n",
    "print(paises_2d.T.shape)\n",
    "np.split(paises_2d.T,2)"
   ]
  },
  {
   "cell_type": "code",
   "execution_count": 22,
   "metadata": {},
   "outputs": [
    {
     "data": {
      "text/plain": [
       "[array([['Ecuador', 'Estados Unidos', 'Cuba', 'Venezuela']], dtype='<U14'),\n",
       " array([['Brasil', 'China', 'Japon', 'Mexico']], dtype='<U14')]"
      ]
     },
     "execution_count": 22,
     "metadata": {},
     "output_type": "execute_result"
    }
   ],
   "source": [
    "np.split(paises_2d, 2)"
   ]
  },
  {
   "cell_type": "code",
   "execution_count": 34,
   "metadata": {},
   "outputs": [
    {
     "data": {
      "text/plain": [
       "list"
      ]
     },
     "execution_count": 34,
     "metadata": {},
     "output_type": "execute_result"
    }
   ],
   "source": [
    "type(np.split(paises_2d,2))"
   ]
  },
  {
   "cell_type": "code",
   "execution_count": 42,
   "metadata": {},
   "outputs": [
    {
     "data": {
      "text/plain": [
       "[array(['Ecuador', 'Estados Unidos'], dtype='<U14'),\n",
       " array(['Cuba', 'Venezuela'], dtype='<U14'),\n",
       " array(['Brasil', 'China'], dtype='<U14'),\n",
       " array(['Japon', 'Mexico'], dtype='<U14')]"
      ]
     },
     "execution_count": 42,
     "metadata": {},
     "output_type": "execute_result"
    }
   ],
   "source": [
    "np.split(paises_2d.flatten(),4)"
   ]
  },
  {
   "cell_type": "code",
   "execution_count": 41,
   "metadata": {},
   "outputs": [
    {
     "data": {
      "text/plain": [
       "array(['Ecuador', 'Estados Unidos'], dtype='<U14')"
      ]
     },
     "execution_count": 41,
     "metadata": {},
     "output_type": "execute_result"
    }
   ],
   "source": [
    "arr1, arr2, arr3, arr4 = np.split(paises_2d.flatten(),4)\n",
    "arr1"
   ]
  },
  {
   "cell_type": "code",
   "execution_count": 38,
   "metadata": {},
   "outputs": [
    {
     "data": {
      "text/plain": [
       "[array(['Ecuador'], dtype='<U14'),\n",
       " array(['Estados Unidos', 'Cuba'], dtype='<U14'),\n",
       " array(['Venezuela', 'Brasil', 'China', 'Japon', 'Mexico'], dtype='<U14')]"
      ]
     },
     "execution_count": 38,
     "metadata": {},
     "output_type": "execute_result"
    }
   ],
   "source": [
    "# Decidir de que posicion a que poscision quermos utilizar\n",
    "np.split(paises_2d.flatten(),\n",
    "         [\n",
    "             1, #[0, 1[\n",
    "             3 # [1, 3[\n",
    "            # Guarda el restante [3, 7[\n",
    "         ])"
   ]
  },
  {
   "cell_type": "code",
   "execution_count": 50,
   "metadata": {},
   "outputs": [
    {
     "name": "stdout",
     "output_type": "stream",
     "text": [
      "[['Ecuador' 'Estados Unidos' 'Cuba' 'Venezuela']\n",
      " ['Brasil' 'China' 'Japon' 'Mexico']]\n",
      "[array([['Ecuador', 'Estados Unidos'],\n",
      "       ['Brasil', 'China']], dtype='<U14'), array([['Cuba', 'Venezuela'],\n",
      "       ['Japon', 'Mexico']], dtype='<U14')]\n",
      "[array([['Ecuador', 'Estados Unidos', 'Cuba', 'Venezuela']], dtype='<U14'), array([['Brasil', 'China', 'Japon', 'Mexico']], dtype='<U14')]\n",
      "[array([['Ecuador', 'Estados Unidos', 'Cuba', 'Venezuela']], dtype='<U14'), array([['Brasil', 'China', 'Japon', 'Mexico']], dtype='<U14')]\n"
     ]
    }
   ],
   "source": [
    "print(paises_2d)\n",
    "print(np.hsplit(paises_2d, 2)) # Eje 1\n",
    "print(np.vsplit(paises_2d, 2)) # Eje 0\n",
    "print(np.split(paises_2d, 2)) # Eje 0"
   ]
  },
  {
   "cell_type": "code",
   "execution_count": null,
   "metadata": {},
   "outputs": [],
   "source": []
  }
 ],
 "metadata": {
  "kernelspec": {
   "display_name": "Python 3",
   "language": "python",
   "name": "python3"
  },
  "language_info": {
   "codemirror_mode": {
    "name": "ipython",
    "version": 3
   },
   "file_extension": ".py",
   "mimetype": "text/x-python",
   "name": "python",
   "nbconvert_exporter": "python",
   "pygments_lexer": "ipython3",
   "version": "3.7.6"
  }
 },
 "nbformat": 4,
 "nbformat_minor": 4
}
